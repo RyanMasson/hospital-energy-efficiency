{
 "cells": [
  {
   "cell_type": "code",
   "execution_count": 18,
   "metadata": {
    "collapsed": false
   },
   "outputs": [],
   "source": [
    "import numpy as np\n",
    "import pandas as pd\n",
    "import matplotlib.pyplot as plt\n",
    "import seaborn as sns"
   ]
  },
  {
   "cell_type": "code",
   "execution_count": 2,
   "metadata": {
    "collapsed": false
   },
   "outputs": [],
   "source": [
    "boston = pd.DataFrame.from_csv('datasets/Boston Benchmarking Ordinance.csv')\n",
    "chicago = pd.DataFrame.from_csv('datasets/Chicago Benchmarking Ordinance.csv')\n",
    "minneapolis = pd.DataFrame.from_csv('datasets/Minneapolis Benchmarking Ordinance.csv')\n",
    "newyorkcity = pd.DataFrame.from_csv('datasets/New York Benchmarking Ordinance (excl. audit data).csv')\n",
    "philadelphia = pd.DataFrame.from_csv('datasets/Philadelphia Benchmarking Ordinance.csv')\n",
    "# san francisco doesn't have property type labels\n",
    "washingtondc = pd.DataFrame.from_csv('datasets/Washington D.C. Benchmarking Ordinance.csv')  # missing a lot of labels"
   ]
  },
  {
   "cell_type": "code",
   "execution_count": 4,
   "metadata": {
    "collapsed": false
   },
   "outputs": [],
   "source": [
    "chi = chicago.loc[chicago['Property Type'] == 'Hospital (General Medical & Surgical)']\n",
    "bos = boston.loc[boston['Property Type'] == 'Hospital (General Medical & Surgical)']\n",
    "minn = minneapolis.loc[minneapolis['Property Type'] == 'Hospital (General Medical & Surgical)']\n",
    "nyc = newyorkcity.loc[newyorkcity['Property Type'] == 'Hospital (General Medical & Surgical)']\n",
    "phi = philadelphia.loc[philadelphia['Property Type'] == 'Hospital (General Medical & Surgical)']\n",
    "wdc = washingtondc.loc[washingtondc['Property Type'] == 'Hospital (General Medical & Surgical)']"
   ]
  },
  {
   "cell_type": "code",
   "execution_count": 5,
   "metadata": {
    "collapsed": false
   },
   "outputs": [],
   "source": [
    "# dataframe with all hospitals\n",
    "all_hospitals = pd.concat([chi,bos,minn,nyc,phi,wdc])"
   ]
  },
  {
   "cell_type": "code",
   "execution_count": 16,
   "metadata": {
    "collapsed": false
   },
   "outputs": [
    {
     "data": {
      "text/html": [
       "<div>\n",
       "<table border=\"1\" class=\"dataframe\">\n",
       "  <thead>\n",
       "    <tr style=\"text-align: right;\">\n",
       "      <th></th>\n",
       "      <th>Total GHG Emissions (MtCO2e)</th>\n",
       "    </tr>\n",
       "    <tr>\n",
       "      <th>Property Name</th>\n",
       "      <th></th>\n",
       "    </tr>\n",
       "  </thead>\n",
       "  <tbody>\n",
       "    <tr>\n",
       "      <th>Advocate Trinity Hospital</th>\n",
       "      <td>9472.0</td>\n",
       "    </tr>\n",
       "    <tr>\n",
       "      <th>Provident Hospital</th>\n",
       "      <td>12011.0</td>\n",
       "    </tr>\n",
       "    <tr>\n",
       "      <th>Bernard Mitchell Hospital</th>\n",
       "      <td>13550.0</td>\n",
       "    </tr>\n",
       "    <tr>\n",
       "      <th>CCD</th>\n",
       "      <td>33903.0</td>\n",
       "    </tr>\n",
       "    <tr>\n",
       "      <th>Comer Children's Hospital</th>\n",
       "      <td>10442.0</td>\n",
       "    </tr>\n",
       "    <tr>\n",
       "      <th>Advocate Illinois Masonic Medical Center</th>\n",
       "      <td>21860.0</td>\n",
       "    </tr>\n",
       "    <tr>\n",
       "      <th>Presence St Joseph Hospital - Chicago</th>\n",
       "      <td>17968.0</td>\n",
       "    </tr>\n",
       "    <tr>\n",
       "      <th>Ann &amp; Robert H. Lurie Children's Hospital of Chicago</th>\n",
       "      <td>34191.0</td>\n",
       "    </tr>\n",
       "    <tr>\n",
       "      <th>NMH Feinberg Pavilion and Galter Pavilion</th>\n",
       "      <td>51047.0</td>\n",
       "    </tr>\n",
       "    <tr>\n",
       "      <th>NMH Prentice Womens Hospital</th>\n",
       "      <td>23129.0</td>\n",
       "    </tr>\n",
       "    <tr>\n",
       "      <th>Mercy Chicago - Hospital</th>\n",
       "      <td>20079.0</td>\n",
       "    </tr>\n",
       "    <tr>\n",
       "      <th>Rush University Medical Center</th>\n",
       "      <td>138008.0</td>\n",
       "    </tr>\n",
       "    <tr>\n",
       "      <th>Stroger Hospital Campus</th>\n",
       "      <td>56241.0</td>\n",
       "    </tr>\n",
       "    <tr>\n",
       "      <th>Presence Resurrection Medical Center</th>\n",
       "      <td>28338.0</td>\n",
       "    </tr>\n",
       "    <tr>\n",
       "      <th>Community First Medical Center</th>\n",
       "      <td>9065.0</td>\n",
       "    </tr>\n",
       "    <tr>\n",
       "      <th>WEISS MEMORIAL HOSPITAL</th>\n",
       "      <td>12522.0</td>\n",
       "    </tr>\n",
       "    <tr>\n",
       "      <th>Presence SMEMC St Elizabeth Campus</th>\n",
       "      <td>6551.0</td>\n",
       "    </tr>\n",
       "    <tr>\n",
       "      <th>Presence SMEMC St Mary Campus</th>\n",
       "      <td>19465.0</td>\n",
       "    </tr>\n",
       "  </tbody>\n",
       "</table>\n",
       "</div>"
      ],
      "text/plain": [
       "                                                    Total GHG Emissions (MtCO2e)\n",
       "Property Name                                                                   \n",
       "Advocate Trinity Hospital                                                 9472.0\n",
       "Provident Hospital                                                       12011.0\n",
       "Bernard Mitchell Hospital                                                13550.0\n",
       "CCD                                                                      33903.0\n",
       "Comer Children's Hospital                                                10442.0\n",
       "Advocate Illinois Masonic Medical Center                                 21860.0\n",
       "Presence St Joseph Hospital - Chicago                                    17968.0\n",
       "Ann & Robert H. Lurie Children's Hospital of Ch...                       34191.0\n",
       "NMH Feinberg Pavilion and Galter Pavilion                                51047.0\n",
       "NMH Prentice Womens Hospital                                             23129.0\n",
       "Mercy Chicago - Hospital                                                 20079.0\n",
       "Rush University Medical Center                                          138008.0\n",
       "Stroger Hospital Campus                                                  56241.0\n",
       "Presence Resurrection Medical Center                                     28338.0\n",
       "Community First Medical Center                                            9065.0\n",
       "WEISS MEMORIAL HOSPITAL                                                  12522.0\n",
       "Presence SMEMC St Elizabeth Campus                                        6551.0\n",
       "Presence SMEMC St Mary Campus                                            19465.0"
      ]
     },
     "execution_count": 16,
     "metadata": {},
     "output_type": "execute_result"
    }
   ],
   "source": [
    "#list(all_hospitals)\n",
    "# total GHG emmisions attribute: 'Total GHG Emissions (MtCO2e)'\n",
    "\n",
    "chi_GHG = chi[['Total GHG Emissions (MtCO2e)']]\n",
    "bos_GHG = bos[['Total GHG Emissions (MtCO2e)']]\n",
    "minn_GHG = minn[['Total GHG Emissions (MtCO2e)']]\n",
    "nyc_GHG = nyc[['Total GHG Emissions (MtCO2e)']]\n",
    "\n",
    "\n",
    "ax = sns.swarmplot(x=\"day\", y=\"total_bill\", data=tips)\n",
    "\n"
   ]
  },
  {
   "cell_type": "code",
   "execution_count": null,
   "metadata": {
    "collapsed": true
   },
   "outputs": [],
   "source": []
  }
 ],
 "metadata": {
  "kernelspec": {
   "display_name": "Python 2",
   "language": "python",
   "name": "python2"
  },
  "language_info": {
   "codemirror_mode": {
    "name": "ipython",
    "version": 2
   },
   "file_extension": ".py",
   "mimetype": "text/x-python",
   "name": "python",
   "nbconvert_exporter": "python",
   "pygments_lexer": "ipython2",
   "version": "2.7.13"
  }
 },
 "nbformat": 4,
 "nbformat_minor": 2
}
