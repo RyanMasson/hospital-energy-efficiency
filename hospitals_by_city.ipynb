{
 "cells": [
  {
   "cell_type": "code",
   "execution_count": null,
   "metadata": {
    "collapsed": false
   },
   "outputs": [],
   "source": [
    "import numpy as np\n",
    "import pandas as pd\n",
    "import matplotlib.pyplot as plt\n",
    "import seaborn as sns\n",
    "\n",
    "%matplotlib inline"
   ]
  },
  {
   "cell_type": "code",
   "execution_count": null,
   "metadata": {
    "collapsed": false
   },
   "outputs": [],
   "source": [
    "boston = pd.DataFrame.from_csv('datasets/Boston Benchmarking Ordinance.csv')\n",
    "chicago = pd.DataFrame.from_csv('datasets/Chicago Benchmarking Ordinance.csv')\n",
    "minneapolis = pd.DataFrame.from_csv('datasets/Minneapolis Benchmarking Ordinance.csv')\n",
    "newyorkcity = pd.DataFrame.from_csv('datasets/New York Benchmarking Ordinance (excl. audit data).csv')\n",
    "philadelphia = pd.DataFrame.from_csv('datasets/Philadelphia Benchmarking Ordinance.csv')\n",
    "# san francisco doesn't have property type labels\n",
    "washingtondc = pd.DataFrame.from_csv('datasets/Washington D.C. Benchmarking Ordinance.csv')  # missing a lot of labels"
   ]
  },
  {
   "cell_type": "code",
   "execution_count": null,
   "metadata": {
    "collapsed": false
   },
   "outputs": [],
   "source": [
    "chi = chicago.loc[chicago['Property Type'] == 'Hospital (General Medical & Surgical)']\n",
    "bos = boston.loc[boston['Property Type'] == 'Hospital (General Medical & Surgical)']\n",
    "minn = minneapolis.loc[minneapolis['Property Type'] == 'Hospital (General Medical & Surgical)']\n",
    "nyc = newyorkcity.loc[newyorkcity['Property Type'] == 'Hospital (General Medical & Surgical)']\n",
    "phi = philadelphia.loc[philadelphia['Property Type'] == 'Hospital (General Medical & Surgical)']\n",
    "wdc = washingtondc.loc[washingtondc['Property Type'] == 'Hospital (General Medical & Surgical)']"
   ]
  },
  {
   "cell_type": "code",
   "execution_count": null,
   "metadata": {
    "collapsed": false
   },
   "outputs": [],
   "source": [
    "# dataframe with all hospitals\n",
    "all_hospitals = pd.concat([chi,bos,minn,nyc,phi,wdc])\n",
    "#list(all_hospitals)\n",
    "#all_hospitals"
   ]
  },
  {
   "cell_type": "code",
   "execution_count": null,
   "metadata": {
    "collapsed": false
   },
   "outputs": [],
   "source": [
    "fig, ax = plt.subplots(figsize=(16,6))\n",
    "sns.set_style(\"whitegrid\")\n",
    "GHG_swarm = sns.swarmplot(x='City', y='Total GHG Emissions (MtCO2e)', data=all_hospitals, ax=ax)"
   ]
  },
  {
   "cell_type": "code",
   "execution_count": null,
   "metadata": {
    "collapsed": false
   },
   "outputs": [],
   "source": [
    "# Boston doesn't have source EUI\n",
    "fig, ax = plt.subplots(figsize=(16,6))\n",
    "all_hospitals_no_boston = pd.concat([chi,minn,nyc,phi,wdc])\n",
    "sns.set_style('whitegrid')\n",
    "source_EUI_swarm = sns.swarmplot(x='City', y='Source EUI (kBtu/ft^2)', data=all_hospitals_no_boston, ax=ax)"
   ]
  }
 ],
 "metadata": {
  "kernelspec": {
   "display_name": "Python 2",
   "language": "python",
   "name": "python2"
  },
  "language_info": {
   "codemirror_mode": {
    "name": "ipython",
    "version": 2
   },
   "file_extension": ".py",
   "mimetype": "text/x-python",
   "name": "python",
   "nbconvert_exporter": "python",
   "pygments_lexer": "ipython2",
   "version": "2.7.13"
  }
 },
 "nbformat": 4,
 "nbformat_minor": 2
}
